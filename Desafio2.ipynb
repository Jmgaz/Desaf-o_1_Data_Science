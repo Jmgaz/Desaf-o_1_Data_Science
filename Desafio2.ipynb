{
  "cells": [
    {
      "cell_type": "markdown",
      "metadata": {
        "id": "Xk8I8Xmah0RG"
      },
      "source": [
        "## DESAFIO N°2"
      ]
    },
    {
      "cell_type": "markdown",
      "metadata": {
        "id": "exg-3O6Yh0RP"
      },
      "source": [
        "#### **Integrantes:**\n",
        "- Rodriguez Juan Martin\n",
        "- Carsillo Juan Martin\n",
        "#### **Datasets Elegidos**\n",
        "1. Airbnb Open Data\n",
        "2. Breast cancer\n",
        "3. Canciones populares de Rock en Spotify"
      ]
    },
    {
      "cell_type": "markdown",
      "metadata": {
        "id": "HXz7w-LGh0RR"
      },
      "source": [
        "#### Importo librerias\n"
      ]
    },
    {
      "cell_type": "code",
      "execution_count": 111,
      "metadata": {
        "id": "xfz9XSnFh0RS"
      },
      "outputs": [],
      "source": [
        "import pandas as pd\n",
        "import numpy as np\n",
        "import matplotlib.pyplot as plt\n",
        "import seaborn as sns"
      ]
    },
    {
      "cell_type": "markdown",
      "metadata": {
        "id": "nKCNuaeeh0RU"
      },
      "source": [
        "### **Dataset N°1:** "
      ]
    },
    {
      "cell_type": "markdown",
      "metadata": {},
      "source": [
        "\n",
        "\n"
      ]
    },
    {
      "cell_type": "markdown",
      "metadata": {},
      "source": [
        "**Descripcion del dataset**\n",
        "\n",
        "Desde 2008, los huéspedes y anfitriones han utilizado Airbnb para viajar de una manera más única y personalizada. Como parte de la iniciativa Airbnb Inside, este conjunto de datos describe la actividad de listado de casas de familia en la ciudad de Nueva York.\n",
        "\n",
        "La siguiente actividad de Airbnb se incluye en este conjunto de datos de Nueva York: Anuncios, incluidas las descripciones completas y la puntuación media de las opiniones Reseñas, incluido el identificador único de cada revisor y los comentarios detallados,Calendario, incluido el identificador del anuncio y el precio y la disponibilidad para ese día.\n",
        "\n"
      ]
    },
    {
      "cell_type": "code",
      "execution_count": 112,
      "metadata": {
        "colab": {
          "base_uri": "https://localhost:8080/",
          "height": 664
        },
        "id": "ecyulDiCh0RW",
        "outputId": "0c7383c5-b6d7-4471-d79e-501007f8b4b1"
      },
      "outputs": [
        {
          "name": "stderr",
          "output_type": "stream",
          "text": [
            "C:\\Users\\Commander\\AppData\\Local\\Temp\\ipykernel_21580\\428709797.py:1: DtypeWarning: Columns (25) have mixed types. Specify dtype option on import or set low_memory=False.\n",
            "  df = pd.read_csv(\"./Data Sets/Airbnb_Open_Data.csv\")\n"
          ]
        },
        {
          "data": {
            "text/html": [
              "<div>\n",
              "<style scoped>\n",
              "    .dataframe tbody tr th:only-of-type {\n",
              "        vertical-align: middle;\n",
              "    }\n",
              "\n",
              "    .dataframe tbody tr th {\n",
              "        vertical-align: top;\n",
              "    }\n",
              "\n",
              "    .dataframe thead th {\n",
              "        text-align: right;\n",
              "    }\n",
              "</style>\n",
              "<table border=\"1\" class=\"dataframe\">\n",
              "  <thead>\n",
              "    <tr style=\"text-align: right;\">\n",
              "      <th></th>\n",
              "      <th>id</th>\n",
              "      <th>NAME</th>\n",
              "      <th>host id</th>\n",
              "      <th>host_identity_verified</th>\n",
              "      <th>host name</th>\n",
              "      <th>neighbourhood group</th>\n",
              "      <th>neighbourhood</th>\n",
              "      <th>lat</th>\n",
              "      <th>long</th>\n",
              "      <th>country</th>\n",
              "      <th>...</th>\n",
              "      <th>service fee</th>\n",
              "      <th>minimum nights</th>\n",
              "      <th>number of reviews</th>\n",
              "      <th>last review</th>\n",
              "      <th>reviews per month</th>\n",
              "      <th>review rate number</th>\n",
              "      <th>calculated host listings count</th>\n",
              "      <th>availability 365</th>\n",
              "      <th>house_rules</th>\n",
              "      <th>license</th>\n",
              "    </tr>\n",
              "  </thead>\n",
              "  <tbody>\n",
              "    <tr>\n",
              "      <th>0</th>\n",
              "      <td>1001254</td>\n",
              "      <td>Clean &amp; quiet apt home by the park</td>\n",
              "      <td>80014485718</td>\n",
              "      <td>unconfirmed</td>\n",
              "      <td>Madaline</td>\n",
              "      <td>Brooklyn</td>\n",
              "      <td>Kensington</td>\n",
              "      <td>40.64749</td>\n",
              "      <td>-73.97237</td>\n",
              "      <td>United States</td>\n",
              "      <td>...</td>\n",
              "      <td>$193</td>\n",
              "      <td>10.0</td>\n",
              "      <td>9.0</td>\n",
              "      <td>10/19/2021</td>\n",
              "      <td>0.21</td>\n",
              "      <td>4.0</td>\n",
              "      <td>6.0</td>\n",
              "      <td>286.0</td>\n",
              "      <td>Clean up and treat the home the way you'd like...</td>\n",
              "      <td>NaN</td>\n",
              "    </tr>\n",
              "    <tr>\n",
              "      <th>1</th>\n",
              "      <td>1002102</td>\n",
              "      <td>Skylit Midtown Castle</td>\n",
              "      <td>52335172823</td>\n",
              "      <td>verified</td>\n",
              "      <td>Jenna</td>\n",
              "      <td>Manhattan</td>\n",
              "      <td>Midtown</td>\n",
              "      <td>40.75362</td>\n",
              "      <td>-73.98377</td>\n",
              "      <td>United States</td>\n",
              "      <td>...</td>\n",
              "      <td>$28</td>\n",
              "      <td>30.0</td>\n",
              "      <td>45.0</td>\n",
              "      <td>5/21/2022</td>\n",
              "      <td>0.38</td>\n",
              "      <td>4.0</td>\n",
              "      <td>2.0</td>\n",
              "      <td>228.0</td>\n",
              "      <td>Pet friendly but please confirm with me if the...</td>\n",
              "      <td>NaN</td>\n",
              "    </tr>\n",
              "    <tr>\n",
              "      <th>2</th>\n",
              "      <td>1002403</td>\n",
              "      <td>THE VILLAGE OF HARLEM....NEW YORK !</td>\n",
              "      <td>78829239556</td>\n",
              "      <td>NaN</td>\n",
              "      <td>Elise</td>\n",
              "      <td>Manhattan</td>\n",
              "      <td>Harlem</td>\n",
              "      <td>40.80902</td>\n",
              "      <td>-73.94190</td>\n",
              "      <td>United States</td>\n",
              "      <td>...</td>\n",
              "      <td>$124</td>\n",
              "      <td>3.0</td>\n",
              "      <td>0.0</td>\n",
              "      <td>NaN</td>\n",
              "      <td>NaN</td>\n",
              "      <td>5.0</td>\n",
              "      <td>1.0</td>\n",
              "      <td>352.0</td>\n",
              "      <td>I encourage you to use my kitchen, cooking and...</td>\n",
              "      <td>NaN</td>\n",
              "    </tr>\n",
              "    <tr>\n",
              "      <th>3</th>\n",
              "      <td>1002755</td>\n",
              "      <td>NaN</td>\n",
              "      <td>85098326012</td>\n",
              "      <td>unconfirmed</td>\n",
              "      <td>Garry</td>\n",
              "      <td>Brooklyn</td>\n",
              "      <td>Clinton Hill</td>\n",
              "      <td>40.68514</td>\n",
              "      <td>-73.95976</td>\n",
              "      <td>United States</td>\n",
              "      <td>...</td>\n",
              "      <td>$74</td>\n",
              "      <td>30.0</td>\n",
              "      <td>270.0</td>\n",
              "      <td>7/5/2019</td>\n",
              "      <td>4.64</td>\n",
              "      <td>4.0</td>\n",
              "      <td>1.0</td>\n",
              "      <td>322.0</td>\n",
              "      <td>NaN</td>\n",
              "      <td>NaN</td>\n",
              "    </tr>\n",
              "    <tr>\n",
              "      <th>4</th>\n",
              "      <td>1003689</td>\n",
              "      <td>Entire Apt: Spacious Studio/Loft by central park</td>\n",
              "      <td>92037596077</td>\n",
              "      <td>verified</td>\n",
              "      <td>Lyndon</td>\n",
              "      <td>Manhattan</td>\n",
              "      <td>East Harlem</td>\n",
              "      <td>40.79851</td>\n",
              "      <td>-73.94399</td>\n",
              "      <td>United States</td>\n",
              "      <td>...</td>\n",
              "      <td>$41</td>\n",
              "      <td>10.0</td>\n",
              "      <td>9.0</td>\n",
              "      <td>11/19/2018</td>\n",
              "      <td>0.10</td>\n",
              "      <td>3.0</td>\n",
              "      <td>1.0</td>\n",
              "      <td>289.0</td>\n",
              "      <td>Please no smoking in the house, porch or on th...</td>\n",
              "      <td>NaN</td>\n",
              "    </tr>\n",
              "  </tbody>\n",
              "</table>\n",
              "<p>5 rows × 26 columns</p>\n",
              "</div>"
            ],
            "text/plain": [
              "        id                                              NAME      host id  \\\n",
              "0  1001254                Clean & quiet apt home by the park  80014485718   \n",
              "1  1002102                             Skylit Midtown Castle  52335172823   \n",
              "2  1002403               THE VILLAGE OF HARLEM....NEW YORK !  78829239556   \n",
              "3  1002755                                               NaN  85098326012   \n",
              "4  1003689  Entire Apt: Spacious Studio/Loft by central park  92037596077   \n",
              "\n",
              "  host_identity_verified host name neighbourhood group neighbourhood  \\\n",
              "0            unconfirmed  Madaline            Brooklyn    Kensington   \n",
              "1               verified     Jenna           Manhattan       Midtown   \n",
              "2                    NaN     Elise           Manhattan        Harlem   \n",
              "3            unconfirmed     Garry            Brooklyn  Clinton Hill   \n",
              "4               verified    Lyndon           Manhattan   East Harlem   \n",
              "\n",
              "        lat      long        country  ... service fee minimum nights  \\\n",
              "0  40.64749 -73.97237  United States  ...       $193            10.0   \n",
              "1  40.75362 -73.98377  United States  ...        $28            30.0   \n",
              "2  40.80902 -73.94190  United States  ...       $124             3.0   \n",
              "3  40.68514 -73.95976  United States  ...        $74            30.0   \n",
              "4  40.79851 -73.94399  United States  ...        $41            10.0   \n",
              "\n",
              "  number of reviews last review  reviews per month review rate number  \\\n",
              "0               9.0  10/19/2021               0.21                4.0   \n",
              "1              45.0   5/21/2022               0.38                4.0   \n",
              "2               0.0         NaN                NaN                5.0   \n",
              "3             270.0    7/5/2019               4.64                4.0   \n",
              "4               9.0  11/19/2018               0.10                3.0   \n",
              "\n",
              "  calculated host listings count  availability 365  \\\n",
              "0                            6.0             286.0   \n",
              "1                            2.0             228.0   \n",
              "2                            1.0             352.0   \n",
              "3                            1.0             322.0   \n",
              "4                            1.0             289.0   \n",
              "\n",
              "                                         house_rules license  \n",
              "0  Clean up and treat the home the way you'd like...     NaN  \n",
              "1  Pet friendly but please confirm with me if the...     NaN  \n",
              "2  I encourage you to use my kitchen, cooking and...     NaN  \n",
              "3                                                NaN     NaN  \n",
              "4  Please no smoking in the house, porch or on th...     NaN  \n",
              "\n",
              "[5 rows x 26 columns]"
            ]
          },
          "execution_count": 112,
          "metadata": {},
          "output_type": "execute_result"
        }
      ],
      "source": [
        "df = pd.read_csv(\"./Data Sets/Airbnb_Open_Data.csv\")\n",
        "\n",
        "df.head()\n"
      ]
    },
    {
      "cell_type": "code",
      "execution_count": 113,
      "metadata": {},
      "outputs": [
        {
          "data": {
            "text/plain": [
              "0         193\n",
              "1          28\n",
              "3          74\n",
              "4          41\n",
              "5         115\n",
              "         ... \n",
              "102594    169\n",
              "102595    167\n",
              "102596    198\n",
              "102597    109\n",
              "102598    206\n",
              "Name: service fee, Length: 102038, dtype: int32"
            ]
          },
          "execution_count": 113,
          "metadata": {},
          "output_type": "execute_result"
        }
      ],
      "source": [
        "df = df.dropna(subset=['host_identity_verified'])\n",
        "df = df.dropna(subset=['service fee'])\n",
        "\n",
        "\n",
        "df['service fee'] = df['service fee'].astype(str)\n",
        "df['service fee'] = df['service fee'].str[1:]\n",
        "df['service fee'] = df['service fee'].astype(int)\n",
        "\n",
        "df['service fee']"
      ]
    },
    {
      "cell_type": "code",
      "execution_count": 114,
      "metadata": {},
      "outputs": [
        {
          "data": {
            "image/png": "[encoded data removed]",
            "text/plain": [
              "<Figure size 500x400 with 1 Axes>"
            ]
          },
          "metadata": {},
          "output_type": "display_data"
        }
      ],
      "source": [
        "host = df['host_identity_verified']\n",
        "labels = host.unique()\n",
        "\n",
        "fig1, (ax1) = plt.subplots(ncols=1,figsize=(5,4))\n",
        "\n",
        "\n",
        "ax1.pie(host.value_counts(), labels=labels,autopct='%1.1f%%',startangle=90)\n",
        "ax1.axis('equal')\n",
        "ax1.set_title(\"Estado de verificacion\")\n",
        "\n",
        "plt.show()"
      ]
    },
    {
      "cell_type": "code",
      "execution_count": 139,
      "metadata": {},
      "outputs": [
        {
          "data": {
            "text/plain": [
              "<seaborn.axisgrid.FacetGrid at 0x1486088fa00>"
            ]
          },
          "execution_count": 139,
          "metadata": {},
          "output_type": "execute_result"
        },
        {
          "data": {
            "image/png": "[encoded data removed]",
            "text/plain": [
              "<Figure size 500x500 with 1 Axes>"
            ]
          },
          "metadata": {},
          "output_type": "display_data"
        }
      ],
      "source": [
        "comisionPorBarrio = df[['neighbourhood group','service fee']]\n",
        "\n",
        "\n",
        "comisionPorBarrio = comisionPorBarrio.groupby('neighbourhood group').mean().reset_index()\n",
        "\n",
        "sns.catplot(data=comisionPorBarrio,x='neighbourhood group',y='service fee',kind='bar',palette=\"pastel\")\n",
        "\n",
        "\n"
      ]
    },
    {
      "cell_type": "markdown",
      "metadata": {},
      "source": [
        "**Variables mas importantes**\n",
        "\n",
        "- **NAME**: Nombre listado\n",
        "- **Neighbourhood**: Vecindario de la propiedad\n",
        "- **Country**: Pais\n",
        "- **cancellation_policy**: Poliza de cancelacion\n",
        "- **room type**: Tipo de habitacion (Habitacion privada o casa entera)\n",
        "- **price**: Precio de lista\n",
        "- **service fee**: Comision de servicio\n",
        "- **minimum nights**: Cantidad minima de noches para reservar\n",
        "- **number of reviews**: Cantidad de reviews\n",
        "- **last review**: ultima review\n",
        "- **reviews per month**: Review por mes\n",
        "- **house_rules**: Reglas de la casa"
      ]
    },
    {
      "cell_type": "markdown",
      "metadata": {
        "id": "zHzu-uCgh0RZ"
      },
      "source": [
        "### **Dataset N°2:** "
      ]
    },
    {
      "cell_type": "markdown",
      "metadata": {},
      "source": [
        "**Descripcion del dataset**\n",
        "\n",
        "Este conjunto de datos de pacientes con cáncer de mama se obtuvo de la actualización de noviembre de 2017 del Programa SEER del NCI, que proporciona información sobre estadísticas de cáncer basadas en la población. El conjunto de datos involucró a pacientes femeninas con cáncer de mama de conducto infiltrante y carcinoma lobulillar diagnosticados en 2006-2010. Se excluyeron los pacientes con tamaño tumoral desconocido, los LN regionales examinados, los LN regionales positivos y los pacientes cuyos meses de supervivencia fueron inferiores a 1 mes; por lo tanto, finalmente se incluyeron 4024 pacientes.\n"
      ]
    },
    {
      "cell_type": "code",
      "execution_count": 115,
      "metadata": {
        "colab": {
          "base_uri": "https://localhost:8080/",
          "height": 302
        },
        "id": "dNNQSkIQh0Ra",
        "outputId": "a9a56ad7-6d36-4692-d4a3-7ea6b31d0e94"
      },
      "outputs": [
        {
          "data": {
            "text/html": [
              "<div>\n",
              "<style scoped>\n",
              "    .dataframe tbody tr th:only-of-type {\n",
              "        vertical-align: middle;\n",
              "    }\n",
              "\n",
              "    .dataframe tbody tr th {\n",
              "        vertical-align: top;\n",
              "    }\n",
              "\n",
              "    .dataframe thead th {\n",
              "        text-align: right;\n",
              "    }\n",
              "</style>\n",
              "<table border=\"1\" class=\"dataframe\">\n",
              "  <thead>\n",
              "    <tr style=\"text-align: right;\">\n",
              "      <th></th>\n",
              "      <th>Age</th>\n",
              "      <th>Race</th>\n",
              "      <th>Marital Status</th>\n",
              "      <th>T Stage</th>\n",
              "      <th>N Stage</th>\n",
              "      <th>6th Stage</th>\n",
              "      <th>differentiate</th>\n",
              "      <th>Grade</th>\n",
              "      <th>A Stage</th>\n",
              "      <th>Tumor Size</th>\n",
              "      <th>Estrogen Status</th>\n",
              "      <th>Progesterone Status</th>\n",
              "      <th>Regional Node Examined</th>\n",
              "      <th>Reginol Node Positive</th>\n",
              "      <th>Survival Months</th>\n",
              "      <th>Status</th>\n",
              "    </tr>\n",
              "  </thead>\n",
              "  <tbody>\n",
              "    <tr>\n",
              "      <th>0</th>\n",
              "      <td>68</td>\n",
              "      <td>White</td>\n",
              "      <td>Married</td>\n",
              "      <td>T1</td>\n",
              "      <td>N1</td>\n",
              "      <td>IIA</td>\n",
              "      <td>Poorly differentiated</td>\n",
              "      <td>3</td>\n",
              "      <td>Regional</td>\n",
              "      <td>4</td>\n",
              "      <td>Positive</td>\n",
              "      <td>Positive</td>\n",
              "      <td>24</td>\n",
              "      <td>1</td>\n",
              "      <td>60</td>\n",
              "      <td>Alive</td>\n",
              "    </tr>\n",
              "    <tr>\n",
              "      <th>1</th>\n",
              "      <td>50</td>\n",
              "      <td>White</td>\n",
              "      <td>Married</td>\n",
              "      <td>T2</td>\n",
              "      <td>N2</td>\n",
              "      <td>IIIA</td>\n",
              "      <td>Moderately differentiated</td>\n",
              "      <td>2</td>\n",
              "      <td>Regional</td>\n",
              "      <td>35</td>\n",
              "      <td>Positive</td>\n",
              "      <td>Positive</td>\n",
              "      <td>14</td>\n",
              "      <td>5</td>\n",
              "      <td>62</td>\n",
              "      <td>Alive</td>\n",
              "    </tr>\n",
              "    <tr>\n",
              "      <th>2</th>\n",
              "      <td>58</td>\n",
              "      <td>White</td>\n",
              "      <td>Divorced</td>\n",
              "      <td>T3</td>\n",
              "      <td>N3</td>\n",
              "      <td>IIIC</td>\n",
              "      <td>Moderately differentiated</td>\n",
              "      <td>2</td>\n",
              "      <td>Regional</td>\n",
              "      <td>63</td>\n",
              "      <td>Positive</td>\n",
              "      <td>Positive</td>\n",
              "      <td>14</td>\n",
              "      <td>7</td>\n",
              "      <td>75</td>\n",
              "      <td>Alive</td>\n",
              "    </tr>\n",
              "    <tr>\n",
              "      <th>3</th>\n",
              "      <td>58</td>\n",
              "      <td>White</td>\n",
              "      <td>Married</td>\n",
              "      <td>T1</td>\n",
              "      <td>N1</td>\n",
              "      <td>IIA</td>\n",
              "      <td>Poorly differentiated</td>\n",
              "      <td>3</td>\n",
              "      <td>Regional</td>\n",
              "      <td>18</td>\n",
              "      <td>Positive</td>\n",
              "      <td>Positive</td>\n",
              "      <td>2</td>\n",
              "      <td>1</td>\n",
              "      <td>84</td>\n",
              "      <td>Alive</td>\n",
              "    </tr>\n",
              "    <tr>\n",
              "      <th>4</th>\n",
              "      <td>47</td>\n",
              "      <td>White</td>\n",
              "      <td>Married</td>\n",
              "      <td>T2</td>\n",
              "      <td>N1</td>\n",
              "      <td>IIB</td>\n",
              "      <td>Poorly differentiated</td>\n",
              "      <td>3</td>\n",
              "      <td>Regional</td>\n",
              "      <td>41</td>\n",
              "      <td>Positive</td>\n",
              "      <td>Positive</td>\n",
              "      <td>3</td>\n",
              "      <td>1</td>\n",
              "      <td>50</td>\n",
              "      <td>Alive</td>\n",
              "    </tr>\n",
              "  </tbody>\n",
              "</table>\n",
              "</div>"
            ],
            "text/plain": [
              "   Age   Race Marital Status T Stage  N Stage 6th Stage  \\\n",
              "0   68  White        Married       T1      N1       IIA   \n",
              "1   50  White        Married       T2      N2      IIIA   \n",
              "2   58  White       Divorced       T3      N3      IIIC   \n",
              "3   58  White        Married       T1      N1       IIA   \n",
              "4   47  White        Married       T2      N1       IIB   \n",
              "\n",
              "               differentiate Grade   A Stage  Tumor Size Estrogen Status  \\\n",
              "0      Poorly differentiated     3  Regional           4        Positive   \n",
              "1  Moderately differentiated     2  Regional          35        Positive   \n",
              "2  Moderately differentiated     2  Regional          63        Positive   \n",
              "3      Poorly differentiated     3  Regional          18        Positive   \n",
              "4      Poorly differentiated     3  Regional          41        Positive   \n",
              "\n",
              "  Progesterone Status  Regional Node Examined  Reginol Node Positive  \\\n",
              "0            Positive                      24                      1   \n",
              "1            Positive                      14                      5   \n",
              "2            Positive                      14                      7   \n",
              "3            Positive                       2                      1   \n",
              "4            Positive                       3                      1   \n",
              "\n",
              "   Survival Months Status  \n",
              "0               60  Alive  \n",
              "1               62  Alive  \n",
              "2               75  Alive  \n",
              "3               84  Alive  \n",
              "4               50  Alive  "
            ]
          },
          "execution_count": 115,
          "metadata": {},
          "output_type": "execute_result"
        }
      ],
      "source": [
        "df2 = pd.read_csv(\"./Data Sets/Breast_Cancer.csv\")\n",
        "\n",
        "df2.head()"
      ]
    },
    {
      "cell_type": "code",
      "execution_count": 116,
      "metadata": {},
      "outputs": [
        {
          "data": {
            "image/png": "[encoded data removed]",
            "text/plain": [
              "<Figure size 1000x400 with 2 Axes>"
            ]
          },
          "metadata": {},
          "output_type": "display_data"
        }
      ],
      "source": [
        "alive_dead = df2['Status']\n",
        "labels = alive_dead.unique()\n",
        "\n",
        "marital_status = df2['Marital Status']\n",
        "labels2 = marital_status.unique()\n",
        "\n",
        "\n",
        "\n",
        "\n",
        "fig1, (ax1,ax2) = plt.subplots(ncols=2,figsize=(10,4))\n",
        "\n",
        "\n",
        "\n",
        "ax1.pie(alive_dead.value_counts(), labels=labels,autopct='%1.1f%%',startangle=90)\n",
        "ax1.axis('equal')\n",
        "ax1.set_title(\"Estado de vida\")\n",
        "\n",
        "\n",
        "wedges,texts,autotexts= ax2.pie(marital_status.value_counts(), autopct='%1.1f%%',startangle=90)\n",
        "ax2.axis('equal')\n",
        "ax2.set_title(\"Estado Civil\")\n",
        "\n",
        "ax2.legend(wedges, labels2,\n",
        "          title=\"Ingredients\",\n",
        "          loc=\"center left\",\n",
        "          bbox_to_anchor=(1, 0, 0.5, 1))\n",
        "\n",
        " \n",
        "plt.show()\n"
      ]
    },
    {
      "cell_type": "code",
      "execution_count": 117,
      "metadata": {},
      "outputs": [
        {
          "data": {
            "text/plain": [
              "<BarContainer object of 40 artists>"
            ]
          },
          "execution_count": 117,
          "metadata": {},
          "output_type": "execute_result"
        },
        {
          "data": {
            "image/png": "[encoded data removed]",
            "text/plain": [
              "<Figure size 640x480 with 1 Axes>"
            ]
          },
          "metadata": {},
          "output_type": "display_data"
        }
      ],
      "source": [
        "edades = df2['Age']\n",
        "labels3 = edades.unique()\n",
        "\n",
        "fig2, ax4 = plt.subplots()\n",
        "\n",
        "ax4.bar(labels3,edades.value_counts(),label='Edad de las mujeres')\n"
      ]
    },
    {
      "cell_type": "markdown",
      "metadata": {},
      "source": [
        "**Variables mas importantes**\n",
        "\n",
        "- **AGE**: Edad de la paciente\n",
        "- **Tumor Size**: Tamaño del tumor\n",
        "- **Survival Months**: Meses de supervivencia\n",
        "- **Status**: Estado de la paciente"
      ]
    },
    {
      "cell_type": "markdown",
      "metadata": {
        "id": "AYkyc_Heh0Rc"
      },
      "source": [
        "### **Dataset N°3:** "
      ]
    },
    {
      "cell_type": "markdown",
      "metadata": {},
      "source": [
        "**Descripcion del dataset**\n",
        "\n",
        "Este dataset posee información de 5484 canciones de rock, incluyendo distintas características evaluadas por Spotify. Abarca desde los años '50 hasta la actualidad.\n",
        "Con estos datos podremos observar las características de las canciones, dependiendo el año de lanzamiento, y la relación con su popularidad en la plataforma.\n"
      ]
    },
    {
      "cell_type": "code",
      "execution_count": 118,
      "metadata": {
        "colab": {
          "base_uri": "https://localhost:8080/",
          "height": 478
        },
        "id": "Efb9rwvhh0Re",
        "outputId": "f191efc3-59e2-4855-a5c0-13cc42d473cc"
      },
      "outputs": [
        {
          "data": {
            "text/html": [
              "<div>\n",
              "<style scoped>\n",
              "    .dataframe tbody tr th:only-of-type {\n",
              "        vertical-align: middle;\n",
              "    }\n",
              "\n",
              "    .dataframe tbody tr th {\n",
              "        vertical-align: top;\n",
              "    }\n",
              "\n",
              "    .dataframe thead th {\n",
              "        text-align: right;\n",
              "    }\n",
              "</style>\n",
              "<table border=\"1\" class=\"dataframe\">\n",
              "  <thead>\n",
              "    <tr style=\"text-align: right;\">\n",
              "      <th></th>\n",
              "      <th>index</th>\n",
              "      <th>name</th>\n",
              "      <th>artist</th>\n",
              "      <th>release_date</th>\n",
              "      <th>length</th>\n",
              "      <th>popularity</th>\n",
              "      <th>danceability</th>\n",
              "      <th>acousticness</th>\n",
              "      <th>danceability.1</th>\n",
              "      <th>energy</th>\n",
              "      <th>instrumentalness</th>\n",
              "      <th>key</th>\n",
              "      <th>liveness</th>\n",
              "      <th>loudness</th>\n",
              "      <th>speechiness</th>\n",
              "      <th>tempo</th>\n",
              "      <th>time_signature</th>\n",
              "      <th>valence</th>\n",
              "    </tr>\n",
              "  </thead>\n",
              "  <tbody>\n",
              "    <tr>\n",
              "      <th>0</th>\n",
              "      <td>0</td>\n",
              "      <td>Smells Like Teen Spirit</td>\n",
              "      <td>Nirvana</td>\n",
              "      <td>1991</td>\n",
              "      <td>5.032000</td>\n",
              "      <td>74</td>\n",
              "      <td>0.502</td>\n",
              "      <td>0.000025</td>\n",
              "      <td>0.502</td>\n",
              "      <td>0.912</td>\n",
              "      <td>0.000173</td>\n",
              "      <td>1</td>\n",
              "      <td>0.1060</td>\n",
              "      <td>-4.556</td>\n",
              "      <td>0.0564</td>\n",
              "      <td>116.761</td>\n",
              "      <td>4</td>\n",
              "      <td>0.720</td>\n",
              "    </tr>\n",
              "    <tr>\n",
              "      <th>1</th>\n",
              "      <td>1</td>\n",
              "      <td>Stairway to Heaven - Remaster</td>\n",
              "      <td>Led Zeppelin</td>\n",
              "      <td>1971</td>\n",
              "      <td>8.047167</td>\n",
              "      <td>78</td>\n",
              "      <td>0.338</td>\n",
              "      <td>0.580000</td>\n",
              "      <td>0.338</td>\n",
              "      <td>0.340</td>\n",
              "      <td>0.003200</td>\n",
              "      <td>9</td>\n",
              "      <td>0.1160</td>\n",
              "      <td>-12.049</td>\n",
              "      <td>0.0339</td>\n",
              "      <td>82.433</td>\n",
              "      <td>4</td>\n",
              "      <td>0.197</td>\n",
              "    </tr>\n",
              "    <tr>\n",
              "      <th>2</th>\n",
              "      <td>2</td>\n",
              "      <td>Bohemian Rhapsody - Remastered 2011</td>\n",
              "      <td>Queen</td>\n",
              "      <td>1975</td>\n",
              "      <td>5.905333</td>\n",
              "      <td>74</td>\n",
              "      <td>0.392</td>\n",
              "      <td>0.288000</td>\n",
              "      <td>0.392</td>\n",
              "      <td>0.402</td>\n",
              "      <td>0.000000</td>\n",
              "      <td>0</td>\n",
              "      <td>0.2430</td>\n",
              "      <td>-9.961</td>\n",
              "      <td>0.0536</td>\n",
              "      <td>143.883</td>\n",
              "      <td>4</td>\n",
              "      <td>0.228</td>\n",
              "    </tr>\n",
              "    <tr>\n",
              "      <th>3</th>\n",
              "      <td>3</td>\n",
              "      <td>Imagine - Remastered 2010</td>\n",
              "      <td>John Lennon</td>\n",
              "      <td>1971</td>\n",
              "      <td>3.131100</td>\n",
              "      <td>77</td>\n",
              "      <td>0.547</td>\n",
              "      <td>0.907000</td>\n",
              "      <td>0.547</td>\n",
              "      <td>0.257</td>\n",
              "      <td>0.183000</td>\n",
              "      <td>0</td>\n",
              "      <td>0.0935</td>\n",
              "      <td>-12.358</td>\n",
              "      <td>0.0252</td>\n",
              "      <td>75.752</td>\n",
              "      <td>4</td>\n",
              "      <td>0.169</td>\n",
              "    </tr>\n",
              "    <tr>\n",
              "      <th>4</th>\n",
              "      <td>4</td>\n",
              "      <td>(I Can't Get No) Satisfaction - Mono Version</td>\n",
              "      <td>The Rolling Stones</td>\n",
              "      <td>1965</td>\n",
              "      <td>3.713550</td>\n",
              "      <td>77</td>\n",
              "      <td>0.723</td>\n",
              "      <td>0.038300</td>\n",
              "      <td>0.723</td>\n",
              "      <td>0.863</td>\n",
              "      <td>0.031700</td>\n",
              "      <td>2</td>\n",
              "      <td>0.1280</td>\n",
              "      <td>-7.890</td>\n",
              "      <td>0.0338</td>\n",
              "      <td>136.302</td>\n",
              "      <td>4</td>\n",
              "      <td>0.931</td>\n",
              "    </tr>\n",
              "  </tbody>\n",
              "</table>\n",
              "</div>"
            ],
            "text/plain": [
              "   index                                          name              artist  \\\n",
              "0      0                       Smells Like Teen Spirit             Nirvana   \n",
              "1      1                 Stairway to Heaven - Remaster        Led Zeppelin   \n",
              "2      2           Bohemian Rhapsody - Remastered 2011               Queen   \n",
              "3      3                     Imagine - Remastered 2010         John Lennon   \n",
              "4      4  (I Can't Get No) Satisfaction - Mono Version  The Rolling Stones   \n",
              "\n",
              "   release_date    length  popularity  danceability  acousticness  \\\n",
              "0          1991  5.032000          74         0.502      0.000025   \n",
              "1          1971  8.047167          78         0.338      0.580000   \n",
              "2          1975  5.905333          74         0.392      0.288000   \n",
              "3          1971  3.131100          77         0.547      0.907000   \n",
              "4          1965  3.713550          77         0.723      0.038300   \n",
              "\n",
              "   danceability.1  energy  instrumentalness  key  liveness  loudness  \\\n",
              "0           0.502   0.912          0.000173    1    0.1060    -4.556   \n",
              "1           0.338   0.340          0.003200    9    0.1160   -12.049   \n",
              "2           0.392   0.402          0.000000    0    0.2430    -9.961   \n",
              "3           0.547   0.257          0.183000    0    0.0935   -12.358   \n",
              "4           0.723   0.863          0.031700    2    0.1280    -7.890   \n",
              "\n",
              "   speechiness    tempo  time_signature  valence  \n",
              "0       0.0564  116.761               4    0.720  \n",
              "1       0.0339   82.433               4    0.197  \n",
              "2       0.0536  143.883               4    0.228  \n",
              "3       0.0252   75.752               4    0.169  \n",
              "4       0.0338  136.302               4    0.931  "
            ]
          },
          "execution_count": 118,
          "metadata": {},
          "output_type": "execute_result"
        }
      ],
      "source": [
        "df3 = pd.read_csv(\"./Data Sets/History_Of_Rock_Spotify.csv\")\n",
        "df3.head()"
      ]
    },
    {
      "cell_type": "code",
      "execution_count": 119,
      "metadata": {},
      "outputs": [
        {
          "data": {
            "text/plain": [
              "Index(['index', 'name', 'artist', 'release_date', 'length', 'popularity',\n",
              "       'danceability', 'acousticness', 'danceability.1', 'energy',\n",
              "       'instrumentalness', 'key', 'liveness', 'loudness', 'speechiness',\n",
              "       'tempo', 'time_signature', 'valence'],\n",
              "      dtype='object')"
            ]
          },
          "execution_count": 119,
          "metadata": {},
          "output_type": "execute_result"
        }
      ],
      "source": [
        "df3.columns"
      ]
    },
    {
      "cell_type": "code",
      "execution_count": 120,
      "metadata": {},
      "outputs": [
        {
          "data": {
            "text/plain": [
              "<bound method DataFrame.info of       index                                          name  \\\n",
              "0         0                       Smells Like Teen Spirit   \n",
              "1         1                 Stairway to Heaven - Remaster   \n",
              "2         2           Bohemian Rhapsody - Remastered 2011   \n",
              "3         3                     Imagine - Remastered 2010   \n",
              "4         4  (I Can't Get No) Satisfaction - Mono Version   \n",
              "...     ...                                           ...   \n",
              "5479   5479                              I'm In Your Mind   \n",
              "5480   5480                                    Cellophane   \n",
              "5481   5481                                     Hot Water   \n",
              "5482   5482           Vitamin C - 2004 Remastered Version   \n",
              "5483   5483                                             ~   \n",
              "\n",
              "                                artist  release_date    length  popularity  \\\n",
              "0                              Nirvana          1991  5.032000          74   \n",
              "1                         Led Zeppelin          1971  8.047167          78   \n",
              "2                                Queen          1975  5.905333          74   \n",
              "3                          John Lennon          1971  3.131100          77   \n",
              "4                   The Rolling Stones          1965  3.713550          77   \n",
              "...                                ...           ...       ...         ...   \n",
              "5479  King Gizzard & The Lizard Wizard          2014  3.559833          47   \n",
              "5480  King Gizzard & The Lizard Wizard          2014  3.179750          44   \n",
              "5481  King Gizzard & The Lizard Wizard          2014  3.396450          40   \n",
              "5482                               CAN          1972  3.567767          52   \n",
              "5483                      Touché Amoré          2011  1.485100           0   \n",
              "\n",
              "      danceability  acousticness  danceability.1  energy  instrumentalness  \\\n",
              "0            0.502      0.000025           0.502   0.912          0.000173   \n",
              "1            0.338      0.580000           0.338   0.340          0.003200   \n",
              "2            0.392      0.288000           0.392   0.402          0.000000   \n",
              "3            0.547      0.907000           0.547   0.257          0.183000   \n",
              "4            0.723      0.038300           0.723   0.863          0.031700   \n",
              "...            ...           ...             ...     ...               ...   \n",
              "5479         0.296      0.005910           0.296   0.776          0.801000   \n",
              "5480         0.432      0.002130           0.432   0.887          0.916000   \n",
              "5481         0.627      0.860000           0.627   0.609          0.890000   \n",
              "5482         0.643      0.006690           0.643   0.644          0.673000   \n",
              "5483         0.222      0.000258           0.222   0.959          0.000275   \n",
              "\n",
              "      key  liveness  loudness  speechiness    tempo  time_signature  valence  \n",
              "0       1    0.1060    -4.556       0.0564  116.761               4    0.720  \n",
              "1       9    0.1160   -12.049       0.0339   82.433               4    0.197  \n",
              "2       0    0.2430    -9.961       0.0536  143.883               4    0.228  \n",
              "3       0    0.0935   -12.358       0.0252   75.752               4    0.169  \n",
              "4       2    0.1280    -7.890       0.0338  136.302               4    0.931  \n",
              "...   ...       ...       ...          ...      ...             ...      ...  \n",
              "5479    6    0.5970    -5.630       0.0597   93.481               4    0.406  \n",
              "5480    7    0.1200    -6.175       0.1230   92.965               4    0.357  \n",
              "5481    9    0.1160    -9.387       0.0332   86.861               4    0.734  \n",
              "5482    4    0.1620   -12.615       0.0462  117.225               4    0.853  \n",
              "5483    6    0.1540    -5.134       0.2080  161.693               4    0.128  \n",
              "\n",
              "[5484 rows x 18 columns]>"
            ]
          },
          "execution_count": 120,
          "metadata": {},
          "output_type": "execute_result"
        }
      ],
      "source": [
        "df3.info"
      ]
    },
    {
      "cell_type": "markdown",
      "metadata": {},
      "source": [
        "**Variables más importantes**\n",
        "\n",
        "- **name**: Nombre de la canción.\n",
        "- **artist**: Nombre del artista.\n",
        "- **release_date**: Año de lanzamiento de la canción.\n",
        "- **popularity**: Popularidad de la canción, en Spotify."
      ]
    }
  ],
  "metadata": {
    "colab": {
      "provenance": []
    },
    "kernelspec": {
      "display_name": "Python 3.10.2 64-bit",
      "language": "python",
      "name": "python3"
    },
    "language_info": {
      "codemirror_mode": {
        "name": "ipython",
        "version": 3
      },
      "file_extension": ".py",
      "mimetype": "text/x-python",
      "name": "python",
      "nbconvert_exporter": "python",
      "pygments_lexer": "ipython3",
      "version": "3.10.2"
    },
    "orig_nbformat": 4,
    "vscode": {
      "interpreter": {
        "hash": "369f2c481f4da34e4445cda3fffd2e751bd1c4d706f27375911949ba6bb62e1c"
      }
    }
  },
  "nbformat": 4,
  "nbformat_minor": 0
}
